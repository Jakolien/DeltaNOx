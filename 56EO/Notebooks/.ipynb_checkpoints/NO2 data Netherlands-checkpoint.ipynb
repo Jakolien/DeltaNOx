{
 "cells": [
  {
   "cell_type": "markdown",
   "metadata": {},
   "source": [
    "## Environment configuration"
   ]
  },
  {
   "cell_type": "code",
   "execution_count": 4,
   "metadata": {},
   "outputs": [],
   "source": [
    "import numpy as np\n",
    "import xarray as xr\n",
    "import netCDF4 as nc\n",
    "from glob import iglob\n",
    "from os.path import join\n",
    "from collections import namedtuple\n",
    "\n",
    "import matplotlib\n",
    "import matplotlib.pyplot as plt\n",
    "import matplotlib.colors as colors\n",
    "from matplotlib import rcParams\n",
    "from mpl_toolkits.axes_grid1.colorbar import colorbar\n",
    "\n",
    "import cartopy.crs as ccrs\n",
    "import cartopy.feature as cfeature\n",
    "from cartopy.feature import NaturalEarthFeature\n",
    "from cartopy.mpl.gridliner import LONGITUDE_FORMATTER, LATITUDE_FORMATTER\n",
    "\n",
    "%matplotlib inline"
   ]
  },
  {
   "cell_type": "markdown",
   "metadata": {},
   "source": [
    "## Define plot extent\n",
    "We are going to define our plot extent as rectangle that incorporates the Netherlands."
   ]
  },
  {
   "cell_type": "code",
   "execution_count": 8,
   "metadata": {},
   "outputs": [
    {
     "name": "stdout",
     "output_type": "stream",
     "text": [
      "Plot extent: lon(3.6806, 6.6806), lat(50.11, 54.11)\n"
     ]
    }
   ],
   "source": [
    "Point = namedtuple('Point', 'lon lat')\n",
    "bilt_coords = Point(5.1806, 52.11)\n",
    "\n",
    "extent_length = 2\n",
    "extent_width = 2\n",
    "plot_extent = (bilt_coords.lon-extent_width, \n",
    "               bilt_coords.lon+extent_width, \n",
    "               bilt_coords.lat-extent_length, \n",
    "               bilt_coords.lat+extent_length,)\n",
    "\n",
    "print(\"Plot extent: lon({}, {}), lat({}, {})\".format(*plot_extent))"
   ]
  },
  {
   "cell_type": "code",
   "execution_count": null,
   "metadata": {},
   "outputs": [],
   "source": []
  }
 ],
 "metadata": {
  "kernelspec": {
   "display_name": "Python 3",
   "language": "python",
   "name": "python3"
  },
  "language_info": {
   "codemirror_mode": {
    "name": "ipython",
    "version": 3
   },
   "file_extension": ".py",
   "mimetype": "text/x-python",
   "name": "python",
   "nbconvert_exporter": "python",
   "pygments_lexer": "ipython3",
   "version": "3.7.5"
  }
 },
 "nbformat": 4,
 "nbformat_minor": 2
}
